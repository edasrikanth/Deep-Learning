{
  "nbformat": 4,
  "nbformat_minor": 0,
  "metadata": {
    "colab": {
      "name": "Img Data Augmentation.ipynb",
      "provenance": []
    },
    "kernelspec": {
      "name": "python3",
      "display_name": "Python 3"
    },
    "language_info": {
      "name": "python"
    }
  },
  "cells": [
    {
      "cell_type": "code",
      "execution_count": 1,
      "metadata": {
        "id": "9BH3Vjlvajrl"
      },
      "outputs": [],
      "source": [
        "# Image Data Generation\n",
        "\n",
        "from keras.preprocessing.image import ImageDataGenerator, array_to_img, img_to_array, load_img"
      ]
    },
    {
      "cell_type": "code",
      "source": [
        "#ImageDataGenerator class is used to mention the properties of generated Img's\n",
        "\n",
        "datagen = ImageDataGenerator(\n",
        "    rotation_range=40,\n",
        "    width_shift_range=0.2,\n",
        "    height_shift_range=0.2,\n",
        "    shear_range=0.2,\n",
        "    zoom_range=0.2,\n",
        "    horizontal_flip=True,\n",
        "    fill_mode='nearest'\n",
        ")\n",
        "\n",
        "img = load_img('/content/download.jpg')\n",
        "x = img_to_array(img)\n",
        "x = x.reshape((1,) + x.shape)\n",
        "\n",
        "\n",
        "# flow function is used to generate the Imgs  \n",
        "i = 0\n",
        "for batch in datagen.flow(x, batch_size=1, save_to_dir='/content/', save_prefix='Dog', save_format='jpeg'):\n",
        "  i+=1\n",
        "  if i > 5:\n",
        "    break;"
      ],
      "metadata": {
        "id": "McaR1OTcd_U4"
      },
      "execution_count": 6,
      "outputs": []
    },
    {
      "cell_type": "code",
      "source": [
        ""
      ],
      "metadata": {
        "id": "k3NnfIusjcVX"
      },
      "execution_count": null,
      "outputs": []
    }
  ]
}
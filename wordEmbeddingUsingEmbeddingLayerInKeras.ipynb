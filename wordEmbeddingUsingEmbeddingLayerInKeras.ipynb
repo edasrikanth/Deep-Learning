{
  "nbformat": 4,
  "nbformat_minor": 0,
  "metadata": {
    "colab": {
      "name": "wordEmbeddingUsingEmbeddingLayerInKeras.ipynb",
      "provenance": []
    },
    "kernelspec": {
      "name": "python3",
      "display_name": "Python 3"
    },
    "language_info": {
      "name": "python"
    }
  },
  "cells": [
    {
      "cell_type": "code",
      "source": [
        "#Importing one_hot for one_hot_encoding\n",
        "from keras.preprocessing.text import one_hot"
      ],
      "metadata": {
        "id": "sn8JDo5h4Gm7"
      },
      "execution_count": 1,
      "outputs": []
    },
    {
      "cell_type": "code",
      "source": [
        "#Sample Sentences\n",
        "sent=['I am Srikanth',\n",
        "'I am developer',\n",
        "'I write code',\n",
        "'lets build Logic',\n",
        "'we will learn DL'\n",
        "]"
      ],
      "metadata": {
        "id": "mj_P0MaC4a2z"
      },
      "execution_count": 2,
      "outputs": []
    },
    {
      "cell_type": "code",
      "source": [
        "#Dictionary size\n",
        "voc_size = 10000"
      ],
      "metadata": {
        "id": "7_GuikPZ47zP"
      },
      "execution_count": 3,
      "outputs": []
    },
    {
      "cell_type": "code",
      "source": [
        "# one_hot representation of each word in sample sentences\n",
        "vec_rep = [one_hot(words, voc_size) for words in sent]"
      ],
      "metadata": {
        "id": "C3oI3_F05FG8"
      },
      "execution_count": 4,
      "outputs": []
    },
    {
      "cell_type": "code",
      "source": [
        "print(vec_rep)"
      ],
      "metadata": {
        "colab": {
          "base_uri": "https://localhost:8080/"
        },
        "id": "m-JoZ0FL6Ayi",
        "outputId": "b8b87710-eeda-4714-95f3-7f0cbeacbafb"
      },
      "execution_count": 5,
      "outputs": [
        {
          "output_type": "stream",
          "name": "stdout",
          "text": [
            "[[6380, 648, 5884], [6380, 648, 6816], [6380, 8430, 7285], [971, 936, 3688], [7650, 7116, 5481, 2949]]\n"
          ]
        }
      ]
    },
    {
      "cell_type": "code",
      "source": [
        "#Importing embedding layers fro embedding encoded words and pad_sequences to make sure every word of equal length \n",
        "\n",
        "from keras.layers import embeddings\n",
        "from keras.preprocessing.sequence import pad_sequences\n",
        "from keras.models import Sequential\n",
        "import numpy as np"
      ],
      "metadata": {
        "id": "9KyB3v2P6HcL"
      },
      "execution_count": 6,
      "outputs": []
    },
    {
      "cell_type": "code",
      "source": [
        "# making the sentence length as 6 \n",
        "sent_length = 6\n",
        "embedded_docs = pad_sequences(vec_rep, padding='pre', maxlen=sent_length)"
      ],
      "metadata": {
        "id": "nTMKPhqH70rC"
      },
      "execution_count": 8,
      "outputs": []
    },
    {
      "cell_type": "code",
      "source": [
        "print(embedded_docs)"
      ],
      "metadata": {
        "colab": {
          "base_uri": "https://localhost:8080/"
        },
        "id": "zEYQXjdq9yhW",
        "outputId": "6da6a509-9088-4562-f2ea-3fca333c043b"
      },
      "execution_count": 9,
      "outputs": [
        {
          "output_type": "stream",
          "name": "stdout",
          "text": [
            "[[   0    0    0 6380  648 5884]\n",
            " [   0    0    0 6380  648 6816]\n",
            " [   0    0    0 6380 8430 7285]\n",
            " [   0    0    0  971  936 3688]\n",
            " [   0    0 7650 7116 5481 2949]]\n"
          ]
        }
      ]
    },
    {
      "cell_type": "code",
      "source": [
        "# Taking features as 10 in Dictionary for every sentence \n",
        "features=10"
      ],
      "metadata": {
        "id": "SImuPc9G9-Ea"
      },
      "execution_count": 10,
      "outputs": []
    },
    {
      "cell_type": "code",
      "source": [
        "# Building a Model for embedding the one_hot encoded vectors\n",
        "model = Sequential()\n",
        "model.add(embeddings.Embedding(voc_size, features, input_length=sent_length))\n",
        "model.compile('adam', 'mse')"
      ],
      "metadata": {
        "id": "Fdy_DE4U-Ps-"
      },
      "execution_count": 12,
      "outputs": []
    },
    {
      "cell_type": "code",
      "source": [
        "# In the builded model, making the 10 features for each and every sentence\n",
        "\n",
        "model.predict(embedded_docs)"
      ],
      "metadata": {
        "colab": {
          "base_uri": "https://localhost:8080/"
        },
        "id": "CSFOA6Ea_RBV",
        "outputId": "2b15a266-e0cc-496f-aac3-b8d9f5b2f444"
      },
      "execution_count": 13,
      "outputs": [
        {
          "output_type": "execute_result",
          "data": {
            "text/plain": [
              "array([[[-0.04390356,  0.01570574, -0.01649676, -0.02122932,\n",
              "         -0.01731436, -0.04335489, -0.01747258,  0.04188463,\n",
              "          0.02458714,  0.04610591],\n",
              "        [-0.04390356,  0.01570574, -0.01649676, -0.02122932,\n",
              "         -0.01731436, -0.04335489, -0.01747258,  0.04188463,\n",
              "          0.02458714,  0.04610591],\n",
              "        [-0.04390356,  0.01570574, -0.01649676, -0.02122932,\n",
              "         -0.01731436, -0.04335489, -0.01747258,  0.04188463,\n",
              "          0.02458714,  0.04610591],\n",
              "        [-0.00217662, -0.04711014, -0.01810952,  0.04749307,\n",
              "         -0.04388682, -0.03060691,  0.01603306,  0.02828466,\n",
              "          0.00059776,  0.04565731],\n",
              "        [-0.02973704, -0.02209522,  0.01364113, -0.01348581,\n",
              "         -0.02635716,  0.03757114,  0.04936847,  0.00423645,\n",
              "          0.04024489, -0.04025482],\n",
              "        [-0.00702215,  0.00256761,  0.00888358,  0.00353225,\n",
              "         -0.04979674,  0.01262219, -0.0049162 ,  0.0201647 ,\n",
              "          0.0292499 ,  0.00157403]],\n",
              "\n",
              "       [[-0.04390356,  0.01570574, -0.01649676, -0.02122932,\n",
              "         -0.01731436, -0.04335489, -0.01747258,  0.04188463,\n",
              "          0.02458714,  0.04610591],\n",
              "        [-0.04390356,  0.01570574, -0.01649676, -0.02122932,\n",
              "         -0.01731436, -0.04335489, -0.01747258,  0.04188463,\n",
              "          0.02458714,  0.04610591],\n",
              "        [-0.04390356,  0.01570574, -0.01649676, -0.02122932,\n",
              "         -0.01731436, -0.04335489, -0.01747258,  0.04188463,\n",
              "          0.02458714,  0.04610591],\n",
              "        [-0.00217662, -0.04711014, -0.01810952,  0.04749307,\n",
              "         -0.04388682, -0.03060691,  0.01603306,  0.02828466,\n",
              "          0.00059776,  0.04565731],\n",
              "        [-0.02973704, -0.02209522,  0.01364113, -0.01348581,\n",
              "         -0.02635716,  0.03757114,  0.04936847,  0.00423645,\n",
              "          0.04024489, -0.04025482],\n",
              "        [ 0.04158441,  0.04121545, -0.04886696,  0.02924952,\n",
              "         -0.02925694, -0.00191683,  0.014927  , -0.03475099,\n",
              "          0.04766205,  0.02189331]],\n",
              "\n",
              "       [[-0.04390356,  0.01570574, -0.01649676, -0.02122932,\n",
              "         -0.01731436, -0.04335489, -0.01747258,  0.04188463,\n",
              "          0.02458714,  0.04610591],\n",
              "        [-0.04390356,  0.01570574, -0.01649676, -0.02122932,\n",
              "         -0.01731436, -0.04335489, -0.01747258,  0.04188463,\n",
              "          0.02458714,  0.04610591],\n",
              "        [-0.04390356,  0.01570574, -0.01649676, -0.02122932,\n",
              "         -0.01731436, -0.04335489, -0.01747258,  0.04188463,\n",
              "          0.02458714,  0.04610591],\n",
              "        [-0.00217662, -0.04711014, -0.01810952,  0.04749307,\n",
              "         -0.04388682, -0.03060691,  0.01603306,  0.02828466,\n",
              "          0.00059776,  0.04565731],\n",
              "        [-0.00032558, -0.04089158, -0.01434443, -0.02255806,\n",
              "         -0.03744401, -0.00978092, -0.00471972, -0.03661161,\n",
              "         -0.03309806,  0.00268145],\n",
              "        [ 0.01024709, -0.02915294,  0.03003795,  0.03217632,\n",
              "         -0.02041227, -0.00048605,  0.02097787,  0.04438717,\n",
              "          0.04166564, -0.0476294 ]],\n",
              "\n",
              "       [[-0.04390356,  0.01570574, -0.01649676, -0.02122932,\n",
              "         -0.01731436, -0.04335489, -0.01747258,  0.04188463,\n",
              "          0.02458714,  0.04610591],\n",
              "        [-0.04390356,  0.01570574, -0.01649676, -0.02122932,\n",
              "         -0.01731436, -0.04335489, -0.01747258,  0.04188463,\n",
              "          0.02458714,  0.04610591],\n",
              "        [-0.04390356,  0.01570574, -0.01649676, -0.02122932,\n",
              "         -0.01731436, -0.04335489, -0.01747258,  0.04188463,\n",
              "          0.02458714,  0.04610591],\n",
              "        [ 0.01587374,  0.03216321, -0.03671708,  0.03314431,\n",
              "          0.0287548 , -0.02845105,  0.02819437,  0.00393857,\n",
              "         -0.03135256, -0.00610707],\n",
              "        [ 0.00526296, -0.02606767,  0.0074571 , -0.03976202,\n",
              "          0.03472534,  0.00824907,  0.00803035,  0.02727867,\n",
              "         -0.01674032, -0.01100551],\n",
              "        [ 0.01528582,  0.0462285 , -0.02456032, -0.01408116,\n",
              "          0.0468185 , -0.01107721, -0.00969163,  0.01379833,\n",
              "          0.0113989 ,  0.04903019]],\n",
              "\n",
              "       [[-0.04390356,  0.01570574, -0.01649676, -0.02122932,\n",
              "         -0.01731436, -0.04335489, -0.01747258,  0.04188463,\n",
              "          0.02458714,  0.04610591],\n",
              "        [-0.04390356,  0.01570574, -0.01649676, -0.02122932,\n",
              "         -0.01731436, -0.04335489, -0.01747258,  0.04188463,\n",
              "          0.02458714,  0.04610591],\n",
              "        [-0.02365377,  0.0287701 , -0.00387333, -0.00643002,\n",
              "          0.04893858, -0.03506123,  0.0235444 ,  0.02958429,\n",
              "          0.04569677,  0.01162207],\n",
              "        [-0.04230565,  0.02565763,  0.0262211 , -0.00505672,\n",
              "          0.02492902,  0.02995476,  0.04749407, -0.04523006,\n",
              "         -0.0283255 ,  0.03319298],\n",
              "        [ 0.02877027,  0.00053469,  0.04876131, -0.02238755,\n",
              "         -0.03690429, -0.0401646 ,  0.03607753, -0.02839671,\n",
              "         -0.01327484, -0.02092788],\n",
              "        [ 0.03391161, -0.00773604, -0.02119037, -0.00587407,\n",
              "          0.04118191, -0.03960975, -0.03522415,  0.04909733,\n",
              "          0.03551886,  0.02014593]]], dtype=float32)"
            ]
          },
          "metadata": {},
          "execution_count": 13
        }
      ]
    },
    {
      "cell_type": "code",
      "source": [
        "# 1st sentence one_hot encoded vector of sample sentences\n",
        "embedded_docs[0]"
      ],
      "metadata": {
        "colab": {
          "base_uri": "https://localhost:8080/"
        },
        "id": "bOt-Ht11AsaB",
        "outputId": "b266d921-7dbd-4cd8-b4f4-3d2089f9006e"
      },
      "execution_count": 14,
      "outputs": [
        {
          "output_type": "execute_result",
          "data": {
            "text/plain": [
              "array([   0,    0,    0, 6380,  648, 5884], dtype=int32)"
            ]
          },
          "metadata": {},
          "execution_count": 14
        }
      ]
    },
    {
      "cell_type": "code",
      "source": [
        "# In the builded model, making the 10 features for very first sentence.\n",
        "model.predict(embedded_docs[0])"
      ],
      "metadata": {
        "colab": {
          "base_uri": "https://localhost:8080/"
        },
        "id": "k98yPiKaA3nr",
        "outputId": "1296a7d7-9c63-4ac8-a3aa-3907594a9461"
      },
      "execution_count": 15,
      "outputs": [
        {
          "output_type": "stream",
          "name": "stdout",
          "text": [
            "WARNING:tensorflow:Model was constructed with shape (None, 6) for input KerasTensor(type_spec=TensorSpec(shape=(None, 6), dtype=tf.float32, name='embedding_1_input'), name='embedding_1_input', description=\"created by layer 'embedding_1_input'\"), but it was called on an input with incompatible shape (None,).\n"
          ]
        },
        {
          "output_type": "execute_result",
          "data": {
            "text/plain": [
              "array([[-0.04390356,  0.01570574, -0.01649676, -0.02122932, -0.01731436,\n",
              "        -0.04335489, -0.01747258,  0.04188463,  0.02458714,  0.04610591],\n",
              "       [-0.04390356,  0.01570574, -0.01649676, -0.02122932, -0.01731436,\n",
              "        -0.04335489, -0.01747258,  0.04188463,  0.02458714,  0.04610591],\n",
              "       [-0.04390356,  0.01570574, -0.01649676, -0.02122932, -0.01731436,\n",
              "        -0.04335489, -0.01747258,  0.04188463,  0.02458714,  0.04610591],\n",
              "       [-0.00217662, -0.04711014, -0.01810952,  0.04749307, -0.04388682,\n",
              "        -0.03060691,  0.01603306,  0.02828466,  0.00059776,  0.04565731],\n",
              "       [-0.02973704, -0.02209522,  0.01364113, -0.01348581, -0.02635716,\n",
              "         0.03757114,  0.04936847,  0.00423645,  0.04024489, -0.04025482],\n",
              "       [-0.00702215,  0.00256761,  0.00888358,  0.00353225, -0.04979674,\n",
              "         0.01262219, -0.0049162 ,  0.0201647 ,  0.0292499 ,  0.00157403]],\n",
              "      dtype=float32)"
            ]
          },
          "metadata": {},
          "execution_count": 15
        }
      ]
    },
    {
      "cell_type": "code",
      "source": [
        ""
      ],
      "metadata": {
        "id": "FiMU4TTtBApx"
      },
      "execution_count": null,
      "outputs": []
    }
  ]
}